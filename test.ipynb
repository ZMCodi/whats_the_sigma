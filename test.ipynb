{
 "cells": [
  {
   "cell_type": "code",
   "execution_count": 10,
   "metadata": {},
   "outputs": [],
   "source": [
    "import psycopg as pg\n",
    "import pandas as pd\n",
    "from dotenv import load_dotenv\n",
    "import os\n",
    "import pandas as pd\n",
    "import numpy as np\n",
    "\n",
    "# Load environment variables from .env file\n",
    "load_dotenv()\n",
    "\n",
    "DB_CONFIG = {\n",
    "    'dbname': os.getenv('DB_NAME'),\n",
    "    'user': os.getenv('DB_USER'),\n",
    "    'password': os.getenv('DB_PASSWORD')\n",
    "}\n",
    "\n",
    "def get_close(tickers: list[str], start_date: str, end_date: str) -> pd.DataFrame:\n",
    "    # Convert Python list to SQL-friendly format: ('AAPL', 'MSFT')\n",
    "    ticker_str = \"(\" + \", \".join([f\"'{ticker}'\" for ticker in tickers]) + \")\"\n",
    "\n",
    "    with pg.connect(**DB_CONFIG) as conn:\n",
    "        with conn.cursor() as cur:\n",
    "            query = f\"\"\"\n",
    "                SELECT date, ticker, adj_close::float \n",
    "                FROM daily\n",
    "                WHERE ticker IN {ticker_str}\n",
    "                AND date BETWEEN '{start_date}' AND '{end_date}'\n",
    "                ORDER BY date\n",
    "            \"\"\"\n",
    "            cur.execute(query)\n",
    "            data = cur.fetchall()\n",
    "\n",
    "    # Convert to DataFrame and pivot to get tickers as columns\n",
    "    df = pd.DataFrame(data, columns=['date', 'ticker', 'adj_close'])\n",
    "    df['adj_close'] = df['adj_close'].astype(float)  # Ensure adj_close is float\n",
    "    df = df.pivot(index='date', columns='ticker', values='adj_close')\n",
    "\n",
    "    return df"
   ]
  },
  {
   "cell_type": "code",
   "execution_count": 11,
   "metadata": {},
   "outputs": [
    {
     "data": {
      "text/html": [
       "<div>\n",
       "<style scoped>\n",
       "    .dataframe tbody tr th:only-of-type {\n",
       "        vertical-align: middle;\n",
       "    }\n",
       "\n",
       "    .dataframe tbody tr th {\n",
       "        vertical-align: top;\n",
       "    }\n",
       "\n",
       "    .dataframe thead th {\n",
       "        text-align: right;\n",
       "    }\n",
       "</style>\n",
       "<table border=\"1\" class=\"dataframe\">\n",
       "  <thead>\n",
       "    <tr style=\"text-align: right;\">\n",
       "      <th>ticker</th>\n",
       "      <th>AAPL</th>\n",
       "      <th>MSFT</th>\n",
       "      <th>NVDA</th>\n",
       "    </tr>\n",
       "    <tr>\n",
       "      <th>date</th>\n",
       "      <th></th>\n",
       "      <th></th>\n",
       "      <th></th>\n",
       "    </tr>\n",
       "  </thead>\n",
       "  <tbody>\n",
       "  </tbody>\n",
       "</table>\n",
       "</div>"
      ],
      "text/plain": [
       "Empty DataFrame\n",
       "Columns: [AAPL, MSFT, NVDA]\n",
       "Index: []"
      ]
     },
     "execution_count": 11,
     "metadata": {},
     "output_type": "execute_result"
    }
   ],
   "source": [
    "tickers = ['AAPL', 'MSFT', 'NVDA']\n",
    "df = get_close(tickers, '2023-01-01', '2025-01-01')\n",
    "df[(df == 0).any(axis=1)]"
   ]
  },
  {
   "cell_type": "code",
   "execution_count": 12,
   "metadata": {},
   "outputs": [
    {
     "name": "stdout",
     "output_type": "stream",
     "text": [
      "date\n",
      "2023-01-03         NaN\n",
      "2023-01-04    0.010261\n",
      "2023-01-05   -0.010661\n",
      "2023-01-06    0.036133\n",
      "2023-01-09    0.004080\n",
      "                ...   \n",
      "2024-12-24    0.011413\n",
      "2024-12-26    0.003171\n",
      "2024-12-27   -0.013331\n",
      "2024-12-30   -0.013352\n",
      "2024-12-31   -0.007083\n",
      "Name: AAPL, Length: 502, dtype: float64\n",
      "date\n",
      "2023-01-03         NaN\n",
      "2023-01-04   -0.044729\n",
      "2023-01-05   -0.030086\n",
      "2023-01-06    0.011716\n",
      "2023-01-09    0.009689\n",
      "                ...   \n",
      "2024-12-24    0.009330\n",
      "2024-12-26   -0.002781\n",
      "2024-12-27   -0.017453\n",
      "2024-12-30   -0.013328\n",
      "2024-12-31   -0.007869\n",
      "Name: MSFT, Length: 502, dtype: float64\n",
      "date\n",
      "2023-01-03         NaN\n",
      "2023-01-04    0.029867\n",
      "2023-01-05   -0.033366\n",
      "2023-01-06    0.040797\n",
      "2023-01-09    0.050458\n",
      "                ...   \n",
      "2024-12-24    0.003930\n",
      "2024-12-26   -0.002070\n",
      "2024-12-27   -0.021088\n",
      "2024-12-30    0.003497\n",
      "2024-12-31   -0.023550\n",
      "Name: NVDA, Length: 502, dtype: float64\n"
     ]
    }
   ],
   "source": [
    "for ticker in df.columns:\n",
    "    log_rets = np.log(df[ticker] / df[ticker].shift(1))\n",
    "    print(log_rets)"
   ]
  },
  {
   "cell_type": "code",
   "execution_count": 9,
   "metadata": {},
   "outputs": [
    {
     "data": {
      "text/plain": [
       "date\n",
       "2023-01-03    123.63253\n",
       "2023-01-04    124.90771\n",
       "2023-01-05    123.58310\n",
       "2023-01-06    128.13023\n",
       "2023-01-09    128.65413\n",
       "                ...    \n",
       "2024-12-24    257.91644\n",
       "2024-12-26    258.73550\n",
       "2024-12-27    255.30930\n",
       "2024-12-30    251.92302\n",
       "2024-12-31    250.14497\n",
       "Name: AAPL, Length: 502, dtype: float64"
      ]
     },
     "execution_count": 9,
     "metadata": {},
     "output_type": "execute_result"
    }
   ],
   "source": [
    "df['AAPL'].astype('float64')"
   ]
  },
  {
   "cell_type": "code",
   "execution_count": 3,
   "metadata": {},
   "outputs": [],
   "source": [
    "import psycopg as pg\n",
    "import pandas as pd\n",
    "from dotenv import load_dotenv\n",
    "import os\n",
    "import pandas as pd\n",
    "import numpy as np\n",
    "\n",
    "# Load environment variables from .env file\n",
    "load_dotenv()\n",
    "\n",
    "DB_CONFIG = {\n",
    "    'dbname': os.getenv('DB_NAME'),\n",
    "    'user': os.getenv('DB_USER'),\n",
    "    'password': os.getenv('DB_PASSWORD')\n",
    "}\n",
    "\n",
    "\n",
    "with pg.connect(**DB_CONFIG) as conn:\n",
    "    with conn.cursor() as cur:\n",
    "        query = \"\"\"\n",
    "            SELECT * \n",
    "            FROM tickers\n",
    "        \"\"\"\n",
    "        cur.execute(query)\n",
    "        data = cur.fetchall()\n",
    "\n",
    "# Convert to DataFrame\n",
    "df_tickers = pd.DataFrame(data, columns=['ticker', 'sector'])\n",
    "df_tickers.to_csv('tickers.csv', index=False)"
   ]
  }
 ],
 "metadata": {
  "kernelspec": {
   "display_name": "assets",
   "language": "python",
   "name": "python3"
  },
  "language_info": {
   "codemirror_mode": {
    "name": "ipython",
    "version": 3
   },
   "file_extension": ".py",
   "mimetype": "text/x-python",
   "name": "python",
   "nbconvert_exporter": "python",
   "pygments_lexer": "ipython3",
   "version": "3.10.16"
  }
 },
 "nbformat": 4,
 "nbformat_minor": 2
}
